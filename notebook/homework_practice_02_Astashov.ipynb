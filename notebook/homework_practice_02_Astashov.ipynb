{
 "cells": [
  {
   "cell_type": "markdown",
   "metadata": {
    "id": "HZpuzX2MXHcO"
   },
   "source": [
    "### Домашня работа 2.\n",
    "### Логистическая регрессия. Работа с признаками"
   ]
  },
  {
   "cell_type": "markdown",
   "metadata": {
    "id": "LWBhjpmzXHcV"
   },
   "source": [
    "\n",
    "### Оценивание и штрафы\n",
    "Каждая из задач имеет определенную «стоимость» (указана в скобках около задачи). Максимально допустимая оценка за работу — 15 баллов. Можно получить 4.5 бонусных балла.\n",
    "\n",
    "Неэффективная реализация кода может негативно отразиться на оценке."
   ]
  },
  {
   "cell_type": "code",
   "execution_count": null,
   "metadata": {
    "colab": {
     "base_uri": "https://localhost:8080/"
    },
    "id": "-2kZUY4lXHcX",
    "outputId": "c16afaad-dc31-427e-dd7b-a955da7b3284"
   },
   "outputs": [
    {
     "output_type": "stream",
     "name": "stdout",
     "text": [
      "Всем удачи!👒 Тут она точно пригодится.\n"
     ]
    }
   ],
   "source": [
    "print(\"Всем удачи!👒 Тут она точно пригодится.\")"
   ]
  },
  {
   "cell_type": "code",
   "execution_count": null,
   "metadata": {
    "colab": {
     "base_uri": "https://localhost:8080/"
    },
    "id": "dI3U0XAZXHcb",
    "outputId": "6eb8baf2-42f0-433d-b92b-a92ae4044271"
   },
   "outputs": [
    {
     "output_type": "stream",
     "name": "stdout",
     "text": [
      "Populating the interactive namespace from numpy and matplotlib\n"
     ]
    }
   ],
   "source": [
    "%pylab inline\n",
    "import pandas as pd\n",
    "import numpy as np\n",
    "\n",
    "from sklearn.datasets import make_classification\n",
    "from sklearn.model_selection import train_test_split\n",
    "\n",
    "import time\n",
    "from sklearn.metrics import (\n",
    "    accuracy_score,\n",
    "    roc_auc_score,\n",
    "    roc_curve,\n",
    "    precision_recall_curve,\n",
    "    auc,\n",
    ")\n",
    "import matplotlib.pyplot as plt\n",
    "\n",
    "from sklearn.preprocessing import OneHotEncoder\n",
    "from sklearn.compose import make_column_transformer\n",
    "\n",
    "from collections import defaultdict\n",
    "import random\n",
    "from sklearn.preprocessing import StandardScaler\n",
    "\n",
    "from sklearn.linear_model import LogisticRegression\n",
    "from sklearn.model_selection import GridSearchCV\n",
    "from sklearn.model_selection import train_test_split\n",
    "\n",
    "from tqdm import tqdm\n",
    "\n",
    "np.random.seed(0)"
   ]
  },
  {
   "cell_type": "markdown",
   "metadata": {
    "id": "_n36NBr1XHcc"
   },
   "source": [
    "## Часть 1. Логистическая регрессия своими руками (4 балла)"
   ]
  },
  {
   "cell_type": "markdown",
   "metadata": {
    "id": "5tioysbJXHcd"
   },
   "source": [
    "Реализуйте логистическую регрессию, обучаемую с помощью:\n",
    "\n",
    "**Задание 1 (1.5 балла). Градиентного спуска**\n",
    "\n",
    "**Задание 2 (1.5 балла). Стохастического градиентного спуска**\n",
    "\n",
    "Во всех пунктах необходимо соблюдать следующие условия:\n",
    "- Градиентный спуск необходимо записать в векторном виде\n",
    "- Циклы средствами python допускается использовать только для итераций градиентного спуска;\n",
    "- В качестве критерия останова необходимо использовать (одновременно):\n",
    "\n",
    "        проверку на евклидову норму разности весов на двух соседних итерациях (например, меньше некоторого малого числа порядка $10^{-6}$) задаваемого параметром `tolerance`;\n",
    "\n",
    "\n",
    "        достижение максимального числа итераций (например, 10000), задаваемого параметром `max_iter`.\n",
    "\n",
    "Чтобы проследить, что оптимизационный процесс действительно сходится, будем использовать атрибут класса loss_history. В нём после вызова метода fit должны содержаться значения функции потерь для всех итераций, начиная с первой (до совершения первого шага по антиградиенту);\n",
    "\n",
    "Инициализировать веса можно случайным образом или нулевым вектором."
   ]
  },
  {
   "cell_type": "markdown",
   "metadata": {
    "id": "tEQMioYdXHce"
   },
   "source": [
    "Полезно [почитать](https://scikit-learn.org/stable/developers/develop.html)."
   ]
  },
  {
   "cell_type": "code",
   "execution_count": null,
   "metadata": {
    "id": "WvUYu1mnXHce"
   },
   "outputs": [],
   "source": [
    "import numpy as np\n",
    "from sklearn.base import BaseEstimator\n",
    "\n",
    "\n",
    "class LogReg(BaseEstimator):\n",
    "    def __init__(\n",
    "        self,\n",
    "        gd_type=\"stochastic\",\n",
    "        tolerance=1e-4,\n",
    "        max_iter=1000,\n",
    "        w0=None,\n",
    "        eta=1e-2,\n",
    "        size=None,\n",
    "        seed=None,\n",
    "        l1_ratio=None,\n",
    "    ):\n",
    "        \"\"\"\n",
    "        gd_type: 'full' or 'stochastic'\n",
    "        tolerance: for stopping gradient descent\n",
    "        max_iter: maximum number of steps in gradient descent\n",
    "        w0: np.array of shape (d) — init weights\n",
    "        eta: learning rate\n",
    "        \"\"\"\n",
    "        self.gd_type = gd_type\n",
    "        self.tolerance = tolerance\n",
    "        self.max_iter = max_iter\n",
    "        self.w0 = w0\n",
    "        self.w = None\n",
    "        self.eta = eta\n",
    "        self.loss_history = (\n",
    "            None  # list of loss function values at each training iteration\n",
    "        )\n",
    "        self.size = size\n",
    "        self.seed = seed\n",
    "        self.l1_ratio = l1_ratio\n",
    "\n",
    "    def fit(self, X, y):\n",
    "        \"\"\"\n",
    "        X: np.array of shape (ell, d)\n",
    "        y: np.array of shape (ell)\n",
    "        ---\n",
    "        output: self\n",
    "        \"\"\"\n",
    "        self.loss_history = []\n",
    "        if self.w0 is None:\n",
    "            self.w0 = np.random.rand(X.shape[1])\n",
    "        self.w = self.w0.copy()\n",
    "\n",
    "        for _ in range(self.max_iter):\n",
    "            gradient = self.calc_gradient(X, y)\n",
    "            self.w = self.w - self.eta * gradient\n",
    "            loss = self.calc_loss(X, y)\n",
    "            self.loss_history.append(loss)\n",
    "\n",
    "            if np.linalg.norm(self.eta * gradient) < self.tolerance:\n",
    "                break\n",
    "\n",
    "        return self\n",
    "\n",
    "    def predict_proba(self, X):\n",
    "        if self.w is None:\n",
    "            raise Exception(\"Not trained yet\")\n",
    "        return 1 / (1 + np.exp(-(X @ self.w)))\n",
    "\n",
    "    def predict(self, X):\n",
    "        if self.w is None:\n",
    "            raise Exception(\"Not trained yet\")\n",
    "        return np.round(self.predict_proba(X))\n",
    "\n",
    "    def calc_gradient(self, X, y):\n",
    "        \"\"\"\n",
    "        X: np.array of shape (ell, d) (ell can be equal to 1 if stochastic)\n",
    "        y: np.array of shape (ell)\n",
    "        ---\n",
    "        output: np.array of shape (d)\n",
    "        \"\"\"\n",
    "        if self.gd_type == \"stochastic\":\n",
    "            if self.size is None:\n",
    "                self.size = 1\n",
    "            ind = np.random.choice(X.shape[0], size=self.size)\n",
    "            X_ind = X.values[ind]\n",
    "            y_ind = y[ind]\n",
    "            predictions = self.predict_proba(X_ind)\n",
    "            gradient = 2.0 / len(y_ind) * (X_ind.T @ (predictions - y_ind))\n",
    "        else:\n",
    "            predictions = self.predict_proba(X)\n",
    "            gradient = 2.0 / len(y) * (X.T @ (predictions - y))\n",
    "\n",
    "        if self.l1_ratio is not None:\n",
    "            gradient += self.l1_ratio * np.sign(self.w)\n",
    "\n",
    "        return gradient\n",
    "\n",
    "    def calc_loss(self, X, y):\n",
    "        \"\"\"\n",
    "        X: np.array of shape (ell, d)\n",
    "        y: np.array of shape (ell)\n",
    "        ---\n",
    "        output: float\n",
    "        \"\"\"\n",
    "        predictions = self.predict_proba(X)\n",
    "        epsilon = 1e-5\n",
    "        loss = -np.mean(\n",
    "            y.T * np.log(predictions + epsilon)\n",
    "            + (1 - y).T * np.log(1 - predictions + epsilon)\n",
    "        )\n",
    "        return loss"
   ]
  },
  {
   "cell_type": "markdown",
   "metadata": {
    "id": "2rmn3lb4XHcf"
   },
   "source": [
    "Синтетические данные"
   ]
  },
  {
   "cell_type": "code",
   "execution_count": null,
   "metadata": {
    "colab": {
     "base_uri": "https://localhost:8080/"
    },
    "id": "BrW2O8nlXHch",
    "outputId": "46c93812-b945-42fe-eb11-e4878ad5a635"
   },
   "outputs": [
    {
     "output_type": "stream",
     "name": "stdout",
     "text": [
      "Populating the interactive namespace from numpy and matplotlib\n"
     ]
    },
    {
     "output_type": "stream",
     "name": "stderr",
     "text": [
      "/usr/local/lib/python3.10/dist-packages/IPython/core/magics/pylab.py:159: UserWarning: pylab import has clobbered these variables: ['random']\n",
      "`%matplotlib` prevents importing * from pylab and numpy\n",
      "  warn(\"pylab import has clobbered these variables: %s\"  % clobbered +\n"
     ]
    }
   ],
   "source": [
    "%pylab inline\n",
    "import pandas as pd\n",
    "\n",
    "from sklearn.datasets import make_classification\n",
    "from sklearn.model_selection import train_test_split"
   ]
  },
  {
   "cell_type": "code",
   "execution_count": null,
   "metadata": {
    "id": "U4WZJRVKXHci"
   },
   "outputs": [],
   "source": [
    "X, y = make_classification(\n",
    "    n_samples=100000, n_features=20, n_informative=10, n_redundant=10, random_state=42\n",
    ")\n",
    "\n",
    "X_train, X_test, y_train, y_test = train_test_split(\n",
    "    X, y, test_size=0.3, random_state=42\n",
    ")"
   ]
  },
  {
   "cell_type": "markdown",
   "metadata": {
    "id": "j7TJmHiTXHcj"
   },
   "source": [
    "**Важно:** далее предполагается, что вы используете собственную реализацию логистической регрессии.\n",
    "Если с написанием класса возникли проблемы, используйте реализацию sklearn, чтобы не терять баллы за остальные задания."
   ]
  },
  {
   "cell_type": "markdown",
   "metadata": {
    "id": "RmN9lSfsXHck"
   },
   "source": [
    "**Задание 3 (1 балл)**\n",
    "\n",
    "Обучите логистическую регрессию на синтетических данных."
   ]
  },
  {
   "cell_type": "code",
   "execution_count": null,
   "metadata": {
    "id": "wSIrPCSOiXuj"
   },
   "outputs": [],
   "source": [
    "def measure_time(model, X, y, X_test, y_test):\n",
    "    \"\"\"\n",
    "    Оценка качества модели, времени обучения и предсказания.\n",
    "    \"\"\"\n",
    "    start_time = time.time()\n",
    "    model.fit(X, y)\n",
    "    end_time = time.time()\n",
    "    train_time = end_time - start_time\n",
    "\n",
    "    # Предсказание на train\n",
    "    y_pred_train = model.predict(X)\n",
    "    accuracy_train = accuracy_score(y, y_pred_train)\n",
    "\n",
    "    # Предсказание на test\n",
    "    start_time = time.time()\n",
    "    y_pred = model.predict(X_test)\n",
    "    end_time = time.time()\n",
    "    predict_time = end_time - start_time\n",
    "    accuracy_test = accuracy_score(y_test, y_pred)\n",
    "\n",
    "    return train_time, predict_time, accuracy_train, accuracy_test"
   ]
  },
  {
   "cell_type": "code",
   "execution_count": null,
   "metadata": {
    "id": "f-HPhxV8iXwv"
   },
   "outputs": [],
   "source": [
    "lr_full = LogReg(gd_type=\"full\", max_iter=1000, tolerance=1e-6, eta=0.01, seed=0)\n",
    "train_time, predict_time, accuracy_train, accuracy_test = measure_time(\n",
    "    lr_full, X_train, y_train, X_test, y_test\n",
    ")"
   ]
  },
  {
   "cell_type": "code",
   "execution_count": null,
   "metadata": {
    "colab": {
     "base_uri": "https://localhost:8080/"
    },
    "id": "5D6-CM77iXzL",
    "outputId": "3fa73b39-ec71-46e6-9be7-208cd30b8dd9"
   },
   "outputs": [
    {
     "output_type": "stream",
     "name": "stdout",
     "text": [
      "Доля правильных ответов на тренировочных даннных для логистической регрессии на градиентном спуске: 0.85\n",
      "Время обучения: 8.8405 сек.\n",
      "Доля правильных ответов на тестовых данных: 0.85\n",
      "Время предсказания: 0.0009 сек.\n",
      "\n"
     ]
    }
   ],
   "source": [
    "print(\n",
    "    f\"Доля правильных ответов на тренировочных даннных для логистической регрессии на градиентном спуске: {accuracy_train:.2f}\"\n",
    ")\n",
    "print(f\"Время обучения: {train_time:.4f} сек.\")\n",
    "print(f\"Доля правильных ответов на тестовых данных: {accuracy_test:.2f}\")\n",
    "print(f\"Время предсказания: {predict_time:.4f} сек.\\n\")"
   ]
  },
  {
   "cell_type": "code",
   "execution_count": null,
   "metadata": {
    "id": "v7E5X-DUlLr5"
   },
   "outputs": [],
   "source": [
    "lr_stochastic = LogReg(\n",
    "    gd_type=\"stochastic\", max_iter=2000, tolerance=1e-8, eta=0.01, size=1, seed=0\n",
    ")\n",
    "train_time, predict_time, accuracy_train, accuracy_test = measure_time(\n",
    "    lr_stochastic, pd.DataFrame(X_train), y_train, X_test, y_test\n",
    ")"
   ]
  },
  {
   "cell_type": "code",
   "execution_count": null,
   "metadata": {
    "colab": {
     "base_uri": "https://localhost:8080/"
    },
    "id": "osxUBSYKlLr6",
    "outputId": "f793909e-7461-4aee-d74f-b32fda6822b1"
   },
   "outputs": [
    {
     "output_type": "stream",
     "name": "stdout",
     "text": [
      "Доля правильных ответов на тренировочных даннных для логистической регрессии на стохастическом градиентном спуске: 0.77\n",
      "Время обучения: 0.1691 сек.\n",
      "Доля правильных ответов на тестовых данных: 0.76\n",
      "Время предсказания: 0.0009 сек.\n",
      "\n"
     ]
    }
   ],
   "source": [
    "print(\n",
    "    f\"Доля правильных ответов на тренировочных даннных для логистической регрессии на стохастическом градиентном спуске: {accuracy_train:.2f}\"\n",
    ")\n",
    "print(f\"Время обучения: {train_time:.4f} сек.\")\n",
    "print(f\"Доля правильных ответов на тестовых данных: {accuracy_test:.2f}\")\n",
    "print(f\"Время предсказания: {predict_time:.4f} сек.\\n\")"
   ]
  },
  {
   "cell_type": "markdown",
   "metadata": {
    "id": "t6yt4uw7XHcm"
   },
   "source": [
    "На тестовой части посчитайте ROC-AUC, PR-AUC. Постройте ROC и PR кривые. Проинтерпретируйте результат."
   ]
  },
  {
   "cell_type": "code",
   "execution_count": null,
   "metadata": {
    "id": "as9HZ7mOXHcm"
   },
   "outputs": [],
   "source": [
    "def compute_metrics_and_curve(model, X, y):\n",
    "    y_prob = model.predict_proba(X)\n",
    "    roc_auc = roc_auc_score(y, y_prob)\n",
    "    precision, recall, _ = precision_recall_curve(y, y_prob)\n",
    "    pr_auc = auc(recall, precision)\n",
    "    fpr, tpr, _ = roc_curve(y, y_prob)\n",
    "    return roc_auc, pr_auc, fpr, tpr, precision, recall\n",
    "\n",
    "\n",
    "def plot_curve(ax, fpr, tpr, precision, recall, roc_auc, pr_auc, method):\n",
    "    ax.plot(fpr, tpr, label=f\"ROC кривая (AUC = {roc_auc:.2f})\")\n",
    "    ax.set_xlabel(\"FPR\" if method == \"roc\" else \"Recall\")\n",
    "    ax.set_ylabel(\"TPR\" if method == \"roc\" else \"Precision\")\n",
    "    ax.set_title(f\"ROC - кривая\" if method == \"roc\" else f\"PR - кривая\")\n",
    "    ax.legend(loc=\"lower right\")"
   ]
  },
  {
   "cell_type": "code",
   "execution_count": null,
   "metadata": {
    "colab": {
     "base_uri": "https://localhost:8080/",
     "height": 1000
    },
    "id": "ezT0eyskv4dX",
    "outputId": "eb12a552-f86f-4c99-bcc4-90741bcb2de2"
   },
   "outputs": [
    {
     "output_type": "display_data",
     "data": {
      "text/plain": [
       "<Figure size 1000x1000 with 4 Axes>"
      ],
      "image/png": "[encoded data removed]"
     },
     "metadata": {}
    }
   ],
   "source": [
    "model_list = [lr_full, lr_stochastic]\n",
    "method_list = [\"full\", \"stochastic\"]\n",
    "\n",
    "fig, axes = plt.subplots(2, 2, figsize=(10, 10))\n",
    "\n",
    "for i, (model, method) in enumerate(zip(model_list, method_list)):\n",
    "    roc_auc, pr_auc, fpr, tpr, precision, recall = compute_metrics_and_curve(\n",
    "        model, X_test, y_test\n",
    "    )\n",
    "    plot_curve(axes[0][i], fpr, tpr, precision, recall, roc_auc, pr_auc, \"roc\")\n",
    "    plot_curve(axes[1][i], recall, precision, precision, recall, pr_auc, roc_auc, \"pr\")\n",
    "    axes[0][i].set_title(f\"ROC кривая ({method})\")\n",
    "    axes[1][i].set_title(f\"PR кривая ({method})\")\n",
    "\n",
    "plt.tight_layout()\n",
    "plt.show()"
   ]
  },
  {
   "cell_type": "markdown",
   "metadata": {
    "id": "f0toBuZLm0E9"
   },
   "source": [
    "Ответ: Подобрав оптимальные гиперпараметры для обучения градиентного и стохастического градиентного спуска получили результат качества модели - хуже, но практически сопоставимый, однако время обучения снизилась в два раза (важно правильно настроить гиперпараметры, тогда качество сойдется). Можно еще попробовать использовать пакетный стохастический градиентный спуск, он более стабильный по дисперсии в направлении градиента. И возможно им получиться так же поднять качество, при этом не потеряв во времени обучения.\n",
    "\n",
    "Большие и резкие скачки (колебания) на PR кривой в начале графика возникают ввиду хаотичного выбора одного объекта данных, по которому идет обновление весов. Это в свою очередь связано с шумами и неоднародностью в данных. Как следствие градиенты по отдельным объектам имеют большую дисперсию, и могут меняться слишком быстро что приводит к колебаниям.\n",
    "\n",
    "Для решения этой проблемы, как было сказано выше, лучше использовать пакетный выбор данных, в место выбора одного объекта. Данные не плохо было бы стандартизировать, в алгоритм добавить регуляризации, рассмотреть варианты с адаптивными спусками, подобрать качественно гиперпараметры на кросс-валидации."
   ]
  },
  {
   "cell_type": "markdown",
   "metadata": {
    "id": "Val9A_m-XHcn"
   },
   "source": [
    "## Часть 2. Работа с категориальными переменными (3 балла)"
   ]
  },
  {
   "cell_type": "markdown",
   "metadata": {
    "id": "8kmEXGi9XHcn"
   },
   "source": [
    "В этой части мы научимся обрабатывать категориальные переменные, так как закодировать их в виде чисел недостаточно (это задаёт некоторый порядок, которого на категориальных переменных может и не быть). Существует два основных способа обработки категориальных значений:\n",
    "- One-hot-кодирование\n",
    "- Счётчики (CTR, mean-target кодирование, ...) — каждый категориальный признак заменяется на среднее значение целевой переменной по всем объектам, имеющим одинаковое значение в этом признаке.\n",
    "\n",
    "Начнём с one-hot-кодирования. Допустим наш категориальный признак $f_j(x)$ принимает значения из множества $C=\\{c_1, \\dots, c_m\\}$. Заменим его на $m$ бинарных признаков $b_1(x), \\dots, b_m(x)$, каждый из которых является индикатором одного из возможных категориальных значений:\n",
    "$$\n",
    "b_i(x) = [f_j(x) = c_i]\n",
    "$$"
   ]
  },
  {
   "cell_type": "markdown",
   "metadata": {
    "id": "3sKDSAMQXHcn"
   },
   "source": [
    "__Подготовка данных.__\n",
    "\n",
    "Загрузим данные с конкурса  [Kaggle Porto Seguro’s Safe Driver Prediction](https://www.kaggle.com/c/porto-seguro-safe-driver-prediction) (вам нужна только обучающая выборка). Задача состоит в определении водителей, которые в ближайший год воспользуются своей автомобильной страховкой (бинарная классификация). Но для нас важна будет не сама задача, а только её данные. При этом для задания мы немного модифицируем датасет."
   ]
  },
  {
   "cell_type": "code",
   "execution_count": null,
   "metadata": {
    "colab": {
     "base_uri": "https://localhost:8080/"
    },
    "id": "NplqEk0TCT81",
    "outputId": "f84144ee-9ac4-42b7-c4a0-62562513c656"
   },
   "outputs": [
    {
     "output_type": "stream",
     "name": "stdout",
     "text": [
      "Downloading...\n",
      "From (original): https://drive.google.com/uc?id=1A1hqkdZlzZmdg6MXFzcLO31QxpQUDJx3\n",
      "From (redirected): https://drive.google.com/uc?id=1A1hqkdZlzZmdg6MXFzcLO31QxpQUDJx3&confirm=t&uuid=8417e730-442a-44be-a5d8-0c361246ee62\n",
      "To: /content/train.csv.zip\n",
      "100% 31.4M/31.4M [00:00<00:00, 38.1MB/s]\n",
      "Archive:  train.csv.zip\n",
      "  inflating: train.csv               \n"
     ]
    }
   ],
   "source": [
    "!gdown 1A1hqkdZlzZmdg6MXFzcLO31QxpQUDJx3\n",
    "!unzip train.csv.zip\n",
    "!rm train.csv.zip"
   ]
  },
  {
   "cell_type": "code",
   "execution_count": null,
   "metadata": {
    "id": "o_PDD39EXHco"
   },
   "outputs": [],
   "source": [
    "data = pd.read_csv(\"train.csv\", index_col=0)\n",
    "target = data.target.values\n",
    "data = data.drop(\"target\", axis=1)"
   ]
  },
  {
   "cell_type": "code",
   "execution_count": null,
   "metadata": {
    "id": "xfgitbedB7wL",
    "colab": {
     "base_uri": "https://localhost:8080/",
     "height": 224
    },
    "outputId": "3a407048-39ee-4879-8130-1a1a3679487d"
   },
   "outputs": [
    {
     "output_type": "execute_result",
     "data": {
      "text/plain": [
       "    ps_ind_01  ps_ind_02_cat  ps_ind_03  ps_ind_04_cat  ps_ind_05_cat  \\\n",
       "id                                                                      \n",
       "7           2              2          5              1              0   \n",
       "9           1              1          7              0              0   \n",
       "13          5              4          9              1              0   \n",
       "\n",
       "    ps_ind_06_bin  ps_ind_07_bin  ps_ind_08_bin  ps_ind_09_bin  ps_ind_10_bin  \\\n",
       "id                                                                              \n",
       "7               0              1              0              0              0   \n",
       "9               0              0              1              0              0   \n",
       "13              0              0              1              0              0   \n",
       "\n",
       "    ...  ps_calc_11  ps_calc_12  ps_calc_13  ps_calc_14  ps_calc_15_bin  \\\n",
       "id  ...                                                                   \n",
       "7   ...           9           1           5           8               0   \n",
       "9   ...           3           1           1           9               0   \n",
       "13  ...           4           2           7           7               0   \n",
       "\n",
       "    ps_calc_16_bin  ps_calc_17_bin  ps_calc_18_bin  ps_calc_19_bin  \\\n",
       "id                                                                   \n",
       "7                1               1               0               0   \n",
       "9                1               1               0               1   \n",
       "13               1               1               0               1   \n",
       "\n",
       "    ps_calc_20_bin  \n",
       "id                  \n",
       "7                1  \n",
       "9                0  \n",
       "13               0  \n",
       "\n",
       "[3 rows x 57 columns]"
      ],
      "text/html": [
       "\n",
       "  <div id=\"df-270bd034-0114-4a26-8baa-fe13330bfa03\" class=\"colab-df-container\">\n",
       "    <div>\n",
       "<style scoped>\n",
       "    .dataframe tbody tr th:only-of-type {\n",
       "        vertical-align: middle;\n",
       "    }\n",
       "\n",
       "    .dataframe tbody tr th {\n",
       "        vertical-align: top;\n",
       "    }\n",
       "\n",
       "    .dataframe thead th {\n",
       "        text-align: right;\n",
       "    }\n",
       "</style>\n",
       "<table border=\"1\" class=\"dataframe\">\n",
       "  <thead>\n",
       "    <tr style=\"text-align: right;\">\n",
       "      <th></th>\n",
       "      <th>ps_ind_01</th>\n",
       "      <th>ps_ind_02_cat</th>\n",
       "      <th>ps_ind_03</th>\n",
       "      <th>ps_ind_04_cat</th>\n",
       "      <th>ps_ind_05_cat</th>\n",
       "      <th>ps_ind_06_bin</th>\n",
       "      <th>ps_ind_07_bin</th>\n",
       "      <th>ps_ind_08_bin</th>\n",
       "      <th>ps_ind_09_bin</th>\n",
       "      <th>ps_ind_10_bin</th>\n",
       "      <th>...</th>\n",
       "      <th>ps_calc_11</th>\n",
       "      <th>ps_calc_12</th>\n",
       "      <th>ps_calc_13</th>\n",
       "      <th>ps_calc_14</th>\n",
       "      <th>ps_calc_15_bin</th>\n",
       "      <th>ps_calc_16_bin</th>\n",
       "      <th>ps_calc_17_bin</th>\n",
       "      <th>ps_calc_18_bin</th>\n",
       "      <th>ps_calc_19_bin</th>\n",
       "      <th>ps_calc_20_bin</th>\n",
       "    </tr>\n",
       "    <tr>\n",
       "      <th>id</th>\n",
       "      <th></th>\n",
       "      <th></th>\n",
       "      <th></th>\n",
       "      <th></th>\n",
       "      <th></th>\n",
       "      <th></th>\n",
       "      <th></th>\n",
       "      <th></th>\n",
       "      <th></th>\n",
       "      <th></th>\n",
       "      <th></th>\n",
       "      <th></th>\n",
       "      <th></th>\n",
       "      <th></th>\n",
       "      <th></th>\n",
       "      <th></th>\n",
       "      <th></th>\n",
       "      <th></th>\n",
       "      <th></th>\n",
       "      <th></th>\n",
       "      <th></th>\n",
       "    </tr>\n",
       "  </thead>\n",
       "  <tbody>\n",
       "    <tr>\n",
       "      <th>7</th>\n",
       "      <td>2</td>\n",
       "      <td>2</td>\n",
       "      <td>5</td>\n",
       "      <td>1</td>\n",
       "      <td>0</td>\n",
       "      <td>0</td>\n",
       "      <td>1</td>\n",
       "      <td>0</td>\n",
       "      <td>0</td>\n",
       "      <td>0</td>\n",
       "      <td>...</td>\n",
       "      <td>9</td>\n",
       "      <td>1</td>\n",
       "      <td>5</td>\n",
       "      <td>8</td>\n",
       "      <td>0</td>\n",
       "      <td>1</td>\n",
       "      <td>1</td>\n",
       "      <td>0</td>\n",
       "      <td>0</td>\n",
       "      <td>1</td>\n",
       "    </tr>\n",
       "    <tr>\n",
       "      <th>9</th>\n",
       "      <td>1</td>\n",
       "      <td>1</td>\n",
       "      <td>7</td>\n",
       "      <td>0</td>\n",
       "      <td>0</td>\n",
       "      <td>0</td>\n",
       "      <td>0</td>\n",
       "      <td>1</td>\n",
       "      <td>0</td>\n",
       "      <td>0</td>\n",
       "      <td>...</td>\n",
       "      <td>3</td>\n",
       "      <td>1</td>\n",
       "      <td>1</td>\n",
       "      <td>9</td>\n",
       "      <td>0</td>\n",
       "      <td>1</td>\n",
       "      <td>1</td>\n",
       "      <td>0</td>\n",
       "      <td>1</td>\n",
       "      <td>0</td>\n",
       "    </tr>\n",
       "    <tr>\n",
       "      <th>13</th>\n",
       "      <td>5</td>\n",
       "      <td>4</td>\n",
       "      <td>9</td>\n",
       "      <td>1</td>\n",
       "      <td>0</td>\n",
       "      <td>0</td>\n",
       "      <td>0</td>\n",
       "      <td>1</td>\n",
       "      <td>0</td>\n",
       "      <td>0</td>\n",
       "      <td>...</td>\n",
       "      <td>4</td>\n",
       "      <td>2</td>\n",
       "      <td>7</td>\n",
       "      <td>7</td>\n",
       "      <td>0</td>\n",
       "      <td>1</td>\n",
       "      <td>1</td>\n",
       "      <td>0</td>\n",
       "      <td>1</td>\n",
       "      <td>0</td>\n",
       "    </tr>\n",
       "  </tbody>\n",
       "</table>\n",
       "<p>3 rows × 57 columns</p>\n",
       "</div>\n",
       "    <div class=\"colab-df-buttons\">\n",
       "\n",
       "  <div class=\"colab-df-container\">\n",
       "    <button class=\"colab-df-convert\" onclick=\"convertToInteractive('df-270bd034-0114-4a26-8baa-fe13330bfa03')\"\n",
       "            title=\"Convert this dataframe to an interactive table.\"\n",
       "            style=\"display:none;\">\n",
       "\n",
       "  <svg xmlns=\"http://www.w3.org/2000/svg\" height=\"24px\" viewBox=\"0 -960 960 960\">\n",
       "    <path d=\"M120-120v-720h720v720H120Zm60-500h600v-160H180v160Zm220 220h160v-160H400v160Zm0 220h160v-160H400v160ZM180-400h160v-160H180v160Zm440 0h160v-160H620v160ZM180-180h160v-160H180v160Zm440 0h160v-160H620v160Z\"/>\n",
       "  </svg>\n",
       "    </button>\n",
       "\n",
       "  <style>\n",
       "    .colab-df-container {\n",
       "      display:flex;\n",
       "      gap: 12px;\n",
       "    }\n",
       "\n",
       "    .colab-df-convert {\n",
       "      background-color: #E8F0FE;\n",
       "      border: none;\n",
       "      border-radius: 50%;\n",
       "      cursor: pointer;\n",
       "      display: none;\n",
       "      fill: #1967D2;\n",
       "      height: 32px;\n",
       "      padding: 0 0 0 0;\n",
       "      width: 32px;\n",
       "    }\n",
       "\n",
       "    .colab-df-convert:hover {\n",
       "      background-color: #E2EBFA;\n",
       "      box-shadow: 0px 1px 2px rgba(60, 64, 67, 0.3), 0px 1px 3px 1px rgba(60, 64, 67, 0.15);\n",
       "      fill: #174EA6;\n",
       "    }\n",
       "\n",
       "    .colab-df-buttons div {\n",
       "      margin-bottom: 4px;\n",
       "    }\n",
       "\n",
       "    [theme=dark] .colab-df-convert {\n",
       "      background-color: #3B4455;\n",
       "      fill: #D2E3FC;\n",
       "    }\n",
       "\n",
       "    [theme=dark] .colab-df-convert:hover {\n",
       "      background-color: #434B5C;\n",
       "      box-shadow: 0px 1px 3px 1px rgba(0, 0, 0, 0.15);\n",
       "      filter: drop-shadow(0px 1px 2px rgba(0, 0, 0, 0.3));\n",
       "      fill: #FFFFFF;\n",
       "    }\n",
       "  </style>\n",
       "\n",
       "    <script>\n",
       "      const buttonEl =\n",
       "        document.querySelector('#df-270bd034-0114-4a26-8baa-fe13330bfa03 button.colab-df-convert');\n",
       "      buttonEl.style.display =\n",
       "        google.colab.kernel.accessAllowed ? 'block' : 'none';\n",
       "\n",
       "      async function convertToInteractive(key) {\n",
       "        const element = document.querySelector('#df-270bd034-0114-4a26-8baa-fe13330bfa03');\n",
       "        const dataTable =\n",
       "          await google.colab.kernel.invokeFunction('convertToInteractive',\n",
       "                                                    [key], {});\n",
       "        if (!dataTable) return;\n",
       "\n",
       "        const docLinkHtml = 'Like what you see? Visit the ' +\n",
       "          '<a target=\"_blank\" href=https://colab.research.google.com/notebooks/data_table.ipynb>data table notebook</a>'\n",
       "          + ' to learn more about interactive tables.';\n",
       "        element.innerHTML = '';\n",
       "        dataTable['output_type'] = 'display_data';\n",
       "        await google.colab.output.renderOutput(dataTable, element);\n",
       "        const docLink = document.createElement('div');\n",
       "        docLink.innerHTML = docLinkHtml;\n",
       "        element.appendChild(docLink);\n",
       "      }\n",
       "    </script>\n",
       "  </div>\n",
       "\n",
       "\n",
       "<div id=\"df-8e306808-e6cd-4df9-9043-43f6607e58fd\">\n",
       "  <button class=\"colab-df-quickchart\" onclick=\"quickchart('df-8e306808-e6cd-4df9-9043-43f6607e58fd')\"\n",
       "            title=\"Suggest charts\"\n",
       "            style=\"display:none;\">\n",
       "\n",
       "<svg xmlns=\"http://www.w3.org/2000/svg\" height=\"24px\"viewBox=\"0 0 24 24\"\n",
       "     width=\"24px\">\n",
       "    <g>\n",
       "        <path d=\"M19 3H5c-1.1 0-2 .9-2 2v14c0 1.1.9 2 2 2h14c1.1 0 2-.9 2-2V5c0-1.1-.9-2-2-2zM9 17H7v-7h2v7zm4 0h-2V7h2v10zm4 0h-2v-4h2v4z\"/>\n",
       "    </g>\n",
       "</svg>\n",
       "  </button>\n",
       "\n",
       "<style>\n",
       "  .colab-df-quickchart {\n",
       "      --bg-color: #E8F0FE;\n",
       "      --fill-color: #1967D2;\n",
       "      --hover-bg-color: #E2EBFA;\n",
       "      --hover-fill-color: #174EA6;\n",
       "      --disabled-fill-color: #AAA;\n",
       "      --disabled-bg-color: #DDD;\n",
       "  }\n",
       "\n",
       "  [theme=dark] .colab-df-quickchart {\n",
       "      --bg-color: #3B4455;\n",
       "      --fill-color: #D2E3FC;\n",
       "      --hover-bg-color: #434B5C;\n",
       "      --hover-fill-color: #FFFFFF;\n",
       "      --disabled-bg-color: #3B4455;\n",
       "      --disabled-fill-color: #666;\n",
       "  }\n",
       "\n",
       "  .colab-df-quickchart {\n",
       "    background-color: var(--bg-color);\n",
       "    border: none;\n",
       "    border-radius: 50%;\n",
       "    cursor: pointer;\n",
       "    display: none;\n",
       "    fill: var(--fill-color);\n",
       "    height: 32px;\n",
       "    padding: 0;\n",
       "    width: 32px;\n",
       "  }\n",
       "\n",
       "  .colab-df-quickchart:hover {\n",
       "    background-color: var(--hover-bg-color);\n",
       "    box-shadow: 0 1px 2px rgba(60, 64, 67, 0.3), 0 1px 3px 1px rgba(60, 64, 67, 0.15);\n",
       "    fill: var(--button-hover-fill-color);\n",
       "  }\n",
       "\n",
       "  .colab-df-quickchart-complete:disabled,\n",
       "  .colab-df-quickchart-complete:disabled:hover {\n",
       "    background-color: var(--disabled-bg-color);\n",
       "    fill: var(--disabled-fill-color);\n",
       "    box-shadow: none;\n",
       "  }\n",
       "\n",
       "  .colab-df-spinner {\n",
       "    border: 2px solid var(--fill-color);\n",
       "    border-color: transparent;\n",
       "    border-bottom-color: var(--fill-color);\n",
       "    animation:\n",
       "      spin 1s steps(1) infinite;\n",
       "  }\n",
       "\n",
       "  @keyframes spin {\n",
       "    0% {\n",
       "      border-color: transparent;\n",
       "      border-bottom-color: var(--fill-color);\n",
       "      border-left-color: var(--fill-color);\n",
       "    }\n",
       "    20% {\n",
       "      border-color: transparent;\n",
       "      border-left-color: var(--fill-color);\n",
       "      border-top-color: var(--fill-color);\n",
       "    }\n",
       "    30% {\n",
       "      border-color: transparent;\n",
       "      border-left-color: var(--fill-color);\n",
       "      border-top-color: var(--fill-color);\n",
       "      border-right-color: var(--fill-color);\n",
       "    }\n",
       "    40% {\n",
       "      border-color: transparent;\n",
       "      border-right-color: var(--fill-color);\n",
       "      border-top-color: var(--fill-color);\n",
       "    }\n",
       "    60% {\n",
       "      border-color: transparent;\n",
       "      border-right-color: var(--fill-color);\n",
       "    }\n",
       "    80% {\n",
       "      border-color: transparent;\n",
       "      border-right-color: var(--fill-color);\n",
       "      border-bottom-color: var(--fill-color);\n",
       "    }\n",
       "    90% {\n",
       "      border-color: transparent;\n",
       "      border-bottom-color: var(--fill-color);\n",
       "    }\n",
       "  }\n",
       "</style>\n",
       "\n",
       "  <script>\n",
       "    async function quickchart(key) {\n",
       "      const quickchartButtonEl =\n",
       "        document.querySelector('#' + key + ' button');\n",
       "      quickchartButtonEl.disabled = true;  // To prevent multiple clicks.\n",
       "      quickchartButtonEl.classList.add('colab-df-spinner');\n",
       "      try {\n",
       "        const charts = await google.colab.kernel.invokeFunction(\n",
       "            'suggestCharts', [key], {});\n",
       "      } catch (error) {\n",
       "        console.error('Error during call to suggestCharts:', error);\n",
       "      }\n",
       "      quickchartButtonEl.classList.remove('colab-df-spinner');\n",
       "      quickchartButtonEl.classList.add('colab-df-quickchart-complete');\n",
       "    }\n",
       "    (() => {\n",
       "      let quickchartButtonEl =\n",
       "        document.querySelector('#df-8e306808-e6cd-4df9-9043-43f6607e58fd button');\n",
       "      quickchartButtonEl.style.display =\n",
       "        google.colab.kernel.accessAllowed ? 'block' : 'none';\n",
       "    })();\n",
       "  </script>\n",
       "</div>\n",
       "    </div>\n",
       "  </div>\n"
      ],
      "application/vnd.google.colaboratory.intrinsic+json": {
       "type": "dataframe",
       "variable_name": "data"
      }
     },
     "metadata": {},
     "execution_count": 15
    }
   ],
   "source": [
    "data.head(3)"
   ]
  },
  {
   "cell_type": "markdown",
   "metadata": {
    "id": "CowE8hpuXHco"
   },
   "source": [
    "Пересемплируем выборку так, чтобы положительных и отрицательных объектов в выборке было одинаковое число. Разделим на обучающую и тестовую выборки.\n"
   ]
  },
  {
   "cell_type": "code",
   "execution_count": null,
   "metadata": {
    "id": "f4OhHrcBXHcp"
   },
   "outputs": [],
   "source": [
    "# some resampling\n",
    "np.random.seed(910)\n",
    "mask_plus = np.random.choice(np.where(target == 1)[0], 100000, replace=True)\n",
    "mask_zero = np.random.choice(np.where(target == 0)[0], 100000, replace=True)\n",
    "\n",
    "data = pd.concat((data.iloc[mask_plus], data.iloc[mask_zero]))\n",
    "target = np.hstack((target[mask_plus], target[mask_zero]))\n",
    "\n",
    "X_train, X_test, y_train, y_test = train_test_split(data, target, test_size=0.5)"
   ]
  },
  {
   "cell_type": "markdown",
   "metadata": {
    "id": "UO4X6r9NXHcp"
   },
   "source": [
    "**Задание 5 (0 баллов).** Посчитайте качество (в этом задании будем работать c ROC-AUC) на исходных признаках при применении логистической регрессии."
   ]
  },
  {
   "cell_type": "code",
   "execution_count": null,
   "metadata": {
    "id": "5DXDmvW0XHcq"
   },
   "outputs": [],
   "source": [
    "def get_auc(model, X, y, X_test, y_test):\n",
    "    model.fit(X, y)\n",
    "\n",
    "    y_proba = model.predict_proba(X_test)\n",
    "    auc_score = roc_auc_score(y_test, y_proba)\n",
    "\n",
    "    return print(f\"ROC-AUC на тестовых данных: {auc_score}\")"
   ]
  },
  {
   "cell_type": "code",
   "execution_count": null,
   "metadata": {
    "id": "lC7csyLcHst7"
   },
   "outputs": [],
   "source": [
    "lr = LogReg(\n",
    "    gd_type=\"stochastic\", max_iter=1000, tolerance=1e-5, eta=0.01, size=5, seed=0\n",
    ")"
   ]
  },
  {
   "cell_type": "code",
   "execution_count": null,
   "metadata": {
    "id": "klLtECTsINSi",
    "colab": {
     "base_uri": "https://localhost:8080/"
    },
    "outputId": "bb014082-81bd-489c-9f0a-9749ae3a2a7a"
   },
   "outputs": [
    {
     "output_type": "stream",
     "name": "stdout",
     "text": [
      "ROC-AUC на тестовых данных: 0.5079697547147645\n",
      "CPU times: user 1.91 s, sys: 2.67 s, total: 4.57 s\n",
      "Wall time: 3.43 s\n"
     ]
    }
   ],
   "source": [
    "%%time\n",
    "get_auc(lr, X_train, y_train, X_test, y_test)"
   ]
  },
  {
   "cell_type": "code",
   "execution_count": null,
   "metadata": {
    "id": "0z0KvU5N91XC",
    "colab": {
     "base_uri": "https://localhost:8080/"
    },
    "outputId": "7403dd6d-f2e8-4307-e327-d8448bb84dae"
   },
   "outputs": [
    {
     "output_type": "execute_result",
     "data": {
      "text/plain": [
       "57"
      ]
     },
     "metadata": {},
     "execution_count": 20
    }
   ],
   "source": [
    "X_train.shape[1]"
   ]
  },
  {
   "cell_type": "markdown",
   "metadata": {
    "id": "yOlK9f7LXHcq"
   },
   "source": [
    "**Задание 6 (0.5 балла).** Закодируйте все категориальные признаки с помощью one-hot-кодирования. Обучите логистическую регрессию и посмотрите, как изменилось качество модели (с тем, что было до кодирования). Измерьте время, потребовавшееся на обучение модели."
   ]
  },
  {
   "cell_type": "code",
   "execution_count": null,
   "metadata": {
    "id": "gPJ8ibpjJb4p"
   },
   "outputs": [],
   "source": [
    "cat_cols = X_train.filter(like=\"cat\", axis=1).columns"
   ]
  },
  {
   "cell_type": "code",
   "execution_count": null,
   "metadata": {
    "id": "N8wdlpzUvxrC"
   },
   "outputs": [],
   "source": [
    "X_train_ohe = X_train.copy()\n",
    "X_test_ohe = X_test.copy()"
   ]
  },
  {
   "cell_type": "code",
   "execution_count": null,
   "metadata": {
    "id": "fA-hOc0V7BEi"
   },
   "outputs": [],
   "source": [
    "ohe = OneHotEncoder(drop=\"first\", sparse_output=False).set_output(transform=\"pandas\")\n",
    "\n",
    "transformed_train = ohe.fit_transform(X_train_ohe[cat_cols])\n",
    "transformed_test = ohe.transform(X_test_ohe[cat_cols])\n",
    "\n",
    "X_train_ohe = pd.concat([X_train_ohe, transformed_train], axis=1)\n",
    "X_train_ohe.drop(cat_cols, axis=1, inplace=True)\n",
    "\n",
    "X_test_ohe = pd.concat([X_test_ohe, transformed_test], axis=1)\n",
    "X_test_ohe.drop(cat_cols, axis=1, inplace=True)"
   ]
  },
  {
   "cell_type": "code",
   "execution_count": null,
   "metadata": {
    "id": "A92obAsF7BI0"
   },
   "outputs": [],
   "source": [
    "lr = LogReg(\n",
    "    gd_type=\"stochastic\", max_iter=1000, tolerance=1e-5, eta=0.01, size=5, seed=0\n",
    ")"
   ]
  },
  {
   "cell_type": "code",
   "execution_count": null,
   "metadata": {
    "id": "lUsT6mjj8Bak",
    "colab": {
     "base_uri": "https://localhost:8080/"
    },
    "outputId": "a802cc6b-90e5-4d97-d908-7134ba744855"
   },
   "outputs": [
    {
     "output_type": "stream",
     "name": "stdout",
     "text": [
      "ROC-AUC на тестовых данных: 0.5623660848980716\n",
      "CPU times: user 1min 28s, sys: 2min 34s, total: 4min 3s\n",
      "Wall time: 2min 24s\n"
     ]
    }
   ],
   "source": [
    "%%time\n",
    "get_auc(lr, X_train_ohe, y_train, X_test_ohe, y_test)"
   ]
  },
  {
   "cell_type": "code",
   "execution_count": null,
   "metadata": {
    "id": "3dzwJTPk8Bc9",
    "colab": {
     "base_uri": "https://localhost:8080/"
    },
    "outputId": "ca232bda-9e37-4228-ffcb-23b086daf191"
   },
   "outputs": [
    {
     "output_type": "execute_result",
     "data": {
      "text/plain": [
       "212"
      ]
     },
     "metadata": {},
     "execution_count": 26
    }
   ],
   "source": [
    "X_train_ohe.shape[1]"
   ]
  },
  {
   "cell_type": "markdown",
   "metadata": {
    "id": "aHNRb-tP_LqK"
   },
   "source": [
    "Качество модели подросло, время выполения кода увеличилось значительно."
   ]
  },
  {
   "cell_type": "markdown",
   "metadata": {
    "id": "dAvHuYaGXHcr"
   },
   "source": [
    "Как можно было заменить, one-hot-кодирование сильно увилечивает количество признаков в датасете, что сказывается на памяти, особенно, если некоторый признак имеет большое количество значений. Эту проблему решает другой способ кодирование категориальных признаков — счётчики. Основная идея в том, что нам важны не сами категории, а значения целевой переменной, которые имеют объекты этой категории. Каждый категориальный признак мы заменим средним значением целевой переменной по всем объектам этой же категории:\n",
    "$$\n",
    "g_j(x, X) = \\frac{\\sum_{i=1}^{l} [f_j(x) = f_j(x_i)][y_i = +1]}{\\sum_{i=1}^{l} [f_j(x) = f_j(x_i)]}\n",
    "$$\n",
    "\n",
    "__Задание 7 (1.5 балла).__ Закодируйте категориальные переменные с помощью счётчиков (ровно так, как описано выше, без каких-либо хитростей). Обучите логистическую регрессию и посмотрите на качество модели на тестовом множестве. Сравните время обучения с предыдущим экспериментом. Заметили ли вы что-то интересное?\n"
   ]
  },
  {
   "cell_type": "code",
   "execution_count": null,
   "metadata": {
    "id": "88pEu48QXHcr"
   },
   "outputs": [],
   "source": [
    "X_train_counts = X_train.copy()\n",
    "X_test_counts = X_test.copy()"
   ]
  },
  {
   "cell_type": "code",
   "execution_count": null,
   "metadata": {
    "id": "QY5HTMOEAEQ5"
   },
   "outputs": [],
   "source": [
    "for ind in cat_cols:\n",
    "    cat_dict = defaultdict(int)\n",
    "    for x_train_val, y_train_val in zip(X_train[ind], y_train):\n",
    "        if y_train_val == 1:\n",
    "            cat_dict[x_train_val] += 1\n",
    "\n",
    "    for cat, count in cat_dict.items():\n",
    "        cat_val = count / np.sum(X_train[ind] == cat)\n",
    "        X_train_counts.loc[X_train[ind] == cat, ind] = cat_val\n",
    "        X_test_counts.loc[X_test[ind] == cat, ind] = cat_val"
   ]
  },
  {
   "cell_type": "code",
   "execution_count": null,
   "metadata": {
    "id": "kLgvonZjAEW2"
   },
   "outputs": [],
   "source": [
    "lr = LogReg(\n",
    "    gd_type=\"stochastic\", max_iter=1000, tolerance=1e-5, eta=0.01, size=5, seed=0\n",
    ")"
   ]
  },
  {
   "cell_type": "code",
   "execution_count": null,
   "metadata": {
    "id": "DIoqjt33DI1c",
    "colab": {
     "base_uri": "https://localhost:8080/"
    },
    "outputId": "37bca7c3-7f29-45f9-a4e0-385bbab58113"
   },
   "outputs": [
    {
     "output_type": "stream",
     "name": "stdout",
     "text": [
      "ROC-AUC на тестовых данных: 0.5496350583147449\n",
      "CPU times: user 31.4 s, sys: 45.4 s, total: 1min 16s\n",
      "Wall time: 44 s\n"
     ]
    }
   ],
   "source": [
    "%%time\n",
    "get_auc(lr, X_train_counts, y_train, X_test_counts, y_test)"
   ]
  },
  {
   "cell_type": "code",
   "execution_count": null,
   "metadata": {
    "id": "22lOs8ChDNnv",
    "colab": {
     "base_uri": "https://localhost:8080/"
    },
    "outputId": "6f4adfa7-6806-491a-c1b8-e317d2ff305e"
   },
   "outputs": [
    {
     "output_type": "execute_result",
     "data": {
      "text/plain": [
       "57"
      ]
     },
     "metadata": {},
     "execution_count": 31
    }
   ],
   "source": [
    "X_train_counts.shape[1]"
   ]
  },
  {
   "cell_type": "markdown",
   "metadata": {
    "id": "ywOy2GhkELU6"
   },
   "source": [
    "Время обучения с предсказанием значительно не повысилось, по сравнению с исходной моделью без кодирования. Однако качество стало лучше, сопоставимо с качеством при кодировании методом OHE."
   ]
  },
  {
   "cell_type": "markdown",
   "metadata": {
    "id": "0-udeHv0XHcs"
   },
   "source": [
    "Отметим, что такие признаки сами по себе являются классификаторами и, обучаясь на них, мы допускаем \"утечку\" целевой переменной в признаки. Это ведёт к переобучению, поэтому считать такие признаки необходимо так, чтобы при вычислении для конкретного объекта его целевая метка не использовалась. Это можно делать следующими способами:\n",
    "1. Вычислять значение счётчика по всем объектам расположенным выше в датасете (например, если у нас выборка отсортирована по времени).\n",
    "2. Вычислять по фолдам, то есть делить выборку на некоторое количество частей и подсчитывать значение признаков по всем фолдам кроме текущего (как делается в кросс-валидации).\n",
    "3. Внесение некоторого шума в посчитанные признаки.\n",
    "\n",
    "__Задание 8 (1 балл)__. Реализуйте корректное вычисление счётчиков самым простым способом — добавление шума к значениям (необходимо соблюсти баланс между избавление от переобучения и полезностью признаков). Снова обучите логистическую регрессию, оцените качество. Сделайте выводы.\n"
   ]
  },
  {
   "cell_type": "code",
   "execution_count": null,
   "metadata": {
    "id": "vRh5pX-IRjws"
   },
   "outputs": [],
   "source": [
    "X_train_counts = X_train.copy()\n",
    "X_test_counts = X_test.copy()"
   ]
  },
  {
   "cell_type": "code",
   "execution_count": null,
   "metadata": {
    "id": "jJJitqXKXHcs"
   },
   "outputs": [],
   "source": [
    "def add_noise(value):\n",
    "    return value + random.uniform(-0.01, 0.01)\n",
    "\n",
    "\n",
    "for ind in cat_cols:\n",
    "    cat_dict = defaultdict(int)\n",
    "    for x_train_val, y_train_val in zip(X_train[ind], y_train):\n",
    "        if y_train_val == 1:\n",
    "            cat_dict[x_train_val] += 1\n",
    "\n",
    "    for cat, count in cat_dict.items():\n",
    "        cat_val = count / np.sum(X_train[ind] == cat)\n",
    "        cat_val_with_noise = add_noise(cat_val)\n",
    "        X_train_counts.loc[X_train[ind] == cat, ind] = cat_val_with_noise\n",
    "        X_test_counts.loc[X_test[ind] == cat, ind] = cat_val_with_noise"
   ]
  },
  {
   "cell_type": "code",
   "execution_count": null,
   "metadata": {
    "id": "tKMwrbv7RzLQ"
   },
   "outputs": [],
   "source": [
    "lr = LogReg(\n",
    "    gd_type=\"stochastic\", max_iter=1000, tolerance=1e-5, eta=0.01, size=5, seed=0\n",
    ")"
   ]
  },
  {
   "cell_type": "code",
   "execution_count": null,
   "metadata": {
    "id": "Q7P2qXEhRzLR",
    "colab": {
     "base_uri": "https://localhost:8080/"
    },
    "outputId": "ed96a08f-e997-4795-e267-6da015f58626"
   },
   "outputs": [
    {
     "output_type": "stream",
     "name": "stdout",
     "text": [
      "ROC-AUC на тестовых данных: 0.5763188662989916\n",
      "CPU times: user 31.7 s, sys: 46 s, total: 1min 17s\n",
      "Wall time: 44.2 s\n"
     ]
    }
   ],
   "source": [
    "%%time\n",
    "get_auc(lr, X_train_counts, y_train, X_test_counts, y_test)"
   ]
  },
  {
   "cell_type": "markdown",
   "metadata": {
    "id": "hEVeafkJSIng"
   },
   "source": [
    "Время обучения и предсказания осталось преждним, как и для счетчика без зашумленности, метрика качества немного подросла."
   ]
  },
  {
   "cell_type": "markdown",
   "metadata": {
    "id": "Fb71T9NQXHct"
   },
   "source": [
    "## Часть 3. Отбор признаков (3 балла + 1 бонус)"
   ]
  },
  {
   "cell_type": "markdown",
   "metadata": {
    "id": "txXU9XsoXHct"
   },
   "source": [
    "Важной частью процесса построения модели является отбор признаков. На практике многие признаки оказывают малое влияние на модель (при этом они увеличивают время вычислений) или даже негативно сказываются на качестве модели. Попробуем несколько подходов отбора признаков, оценим, как они влияют на качество модели и сколько времени занимают.\n",
    "\n",
    "Обратимся к тому же датасету про обращение клиентов по страховым случаям. Обойдёмся без сэмплирования объектов."
   ]
  },
  {
   "cell_type": "code",
   "execution_count": null,
   "metadata": {
    "id": "H8LCXu-EXHcu"
   },
   "outputs": [],
   "source": [
    "data = pd.read_csv(\"train.csv\", index_col=0)\n",
    "target = data.target.values\n",
    "data = data.drop(\"target\", axis=1)\n",
    "X_train, X_test, y_train, y_test = train_test_split(\n",
    "    data, target, test_size=0.2, random_state=124\n",
    ")"
   ]
  },
  {
   "cell_type": "markdown",
   "metadata": {
    "id": "J5o93ggBXHcu"
   },
   "source": [
    "Как вы помните, в данных много категориальных признаков. Давайте закодируем их с помощью one-hot кодирования. Исходные колонки с категориальными признаками можно удалить. Сколько признаков мы получили?"
   ]
  },
  {
   "cell_type": "code",
   "execution_count": null,
   "metadata": {
    "id": "wnAImHsfTSIt"
   },
   "outputs": [],
   "source": [
    "cat_cols = X_train.filter(like=\"cat\", axis=1).columns"
   ]
  },
  {
   "cell_type": "code",
   "execution_count": null,
   "metadata": {
    "id": "0fuwC7c0TSIu"
   },
   "outputs": [],
   "source": [
    "X_train_ohe = X_train.copy()\n",
    "X_test_ohe = X_test.copy()"
   ]
  },
  {
   "cell_type": "code",
   "execution_count": null,
   "metadata": {
    "id": "-p-HdTJFTSIv"
   },
   "outputs": [],
   "source": [
    "ohe = OneHotEncoder(drop=\"first\", sparse_output=False).set_output(transform=\"pandas\")\n",
    "\n",
    "transformed_train = ohe.fit_transform(X_train_ohe[cat_cols])\n",
    "transformed_test = ohe.transform(X_test_ohe[cat_cols])\n",
    "\n",
    "X_train_ohe = pd.concat([X_train_ohe, transformed_train], axis=1)\n",
    "X_train_ohe.drop(cat_cols, axis=1, inplace=True)\n",
    "\n",
    "X_test_ohe = pd.concat([X_test_ohe, transformed_test], axis=1)\n",
    "X_test_ohe.drop(cat_cols, axis=1, inplace=True)"
   ]
  },
  {
   "cell_type": "code",
   "execution_count": null,
   "metadata": {
    "id": "b0V37BOWTbDm",
    "colab": {
     "base_uri": "https://localhost:8080/"
    },
    "outputId": "6ff9913a-e95e-4a23-81c2-6d8723b9639c"
   },
   "outputs": [
    {
     "output_type": "stream",
     "name": "stdout",
     "text": [
      "Число признаков до кодирования OHE: 57\n",
      "Число признаков после кодирования OHE: 213\n"
     ]
    }
   ],
   "source": [
    "print(f\"Число признаков до кодирования OHE: {X_train.shape[1]}\")\n",
    "print(f\"Число признаков после кодирования OHE: {X_train_ohe.shape[1]}\")"
   ]
  },
  {
   "cell_type": "markdown",
   "metadata": {
    "id": "RSJ-duReXHcv"
   },
   "source": [
    "В качестве основной модели будем использовать логистическую регрессию, а целевой метрики — ROC-AUC. Обучите модель и посчитайте качество на тестовой выборке. Давайте запомним полученное значение."
   ]
  },
  {
   "cell_type": "code",
   "execution_count": null,
   "metadata": {
    "id": "mQwBSyfjTSIv"
   },
   "outputs": [],
   "source": [
    "lr = LogReg(\n",
    "    gd_type=\"stochastic\", max_iter=1000, tolerance=1e-5, eta=0.01, size=5, seed=0\n",
    ")"
   ]
  },
  {
   "cell_type": "code",
   "execution_count": null,
   "metadata": {
    "id": "EROdewmbTSIw",
    "colab": {
     "base_uri": "https://localhost:8080/"
    },
    "outputId": "9dc1e155-1d31-4c62-8a8d-13e47bd7e5cc"
   },
   "outputs": [
    {
     "output_type": "stream",
     "name": "stdout",
     "text": [
      "ROC-AUC на тестовых данных: 0.5263551609850202\n",
      "CPU times: user 34.8 s, sys: 38.3 s, total: 1min 13s\n",
      "Wall time: 59.4 s\n"
     ]
    }
   ],
   "source": [
    "%%time\n",
    "get_auc(lr, X_train_ohe, y_train, X_test_ohe, y_test)"
   ]
  },
  {
   "cell_type": "markdown",
   "metadata": {
    "id": "E47jTg2dXHcv"
   },
   "source": [
    "### Встроенные методы"
   ]
  },
  {
   "cell_type": "markdown",
   "metadata": {
    "id": "6nEtU-aPXHcw"
   },
   "source": [
    "Допустим, мы хотим оставить только 200 лучших признаков. Попробуем сделать это несколькими способами.\n",
    "\n",
    "Начнём с отборам признаков с помощью линейной модели. Как известно, веса линейной модели означают вклад каждого признака в предсказание модели, а значит, модуль этого вклада можно интерпретировать как важность признаков. Такой метод отбора называются встроенным или embedded methods, так как он заложен в особенности модели.\n",
    "\n",
    "__Задание 10 (1 балл).__ Оставьте 200 признаков с наибольшим модулем соответсвующего параметра линейной модели. Обучите модели заново и оцените её качество. Замерьте скорость такого отбора признаков.\n",
    "\n",
    "Изменилось ли качество? Как?"
   ]
  },
  {
   "cell_type": "code",
   "execution_count": null,
   "metadata": {
    "id": "vULw4dG9YP5d"
   },
   "outputs": [],
   "source": [
    "impotrant_features_200 = [\n",
    "    col[1] for col in sorted(list(zip(abs(lr.w), X_train_ohe.columns)), reverse=True)\n",
    "][:200]"
   ]
  },
  {
   "cell_type": "code",
   "execution_count": null,
   "metadata": {
    "id": "vEsMKBmwbNq6"
   },
   "outputs": [],
   "source": [
    "lr = LogReg(\n",
    "    gd_type=\"stochastic\", max_iter=1000, tolerance=1e-5, eta=0.01, size=5, seed=0\n",
    ")"
   ]
  },
  {
   "cell_type": "code",
   "execution_count": null,
   "metadata": {
    "id": "AXA4Xnupb6dF",
    "colab": {
     "base_uri": "https://localhost:8080/"
    },
    "outputId": "90dc1eff-e875-4880-91ce-9e7a936f15ec"
   },
   "outputs": [
    {
     "output_type": "stream",
     "name": "stdout",
     "text": [
      "ROC-AUC на тестовых данных: 0.5248556867783711\n",
      "CPU times: user 37.8 s, sys: 41.8 s, total: 1min 19s\n",
      "Wall time: 1min 4s\n"
     ]
    }
   ],
   "source": [
    "%%time\n",
    "get_auc(\n",
    "    lr,\n",
    "    X_train_ohe[impotrant_features_200],\n",
    "    y_train,\n",
    "    X_test_ohe[impotrant_features_200],\n",
    "    y_test,\n",
    ")"
   ]
  },
  {
   "cell_type": "markdown",
   "metadata": {
    "id": "sBV29y9GlO1k"
   },
   "source": [
    "Качество осталось на прежднем уровне. Конечно, правильно было бы усреднять результат на нескольких итераций. Но на данном этапе ограничимся единственным запуском."
   ]
  },
  {
   "cell_type": "markdown",
   "metadata": {
    "id": "egTk6-PyXHc1"
   },
   "source": [
    "А теперь давайте подумаем, что мы не учли. Мы предположили, что признаки вносят вклад равномерно, но не учли их масштаба. Если мы умножим один из признаков в 100 раз, то без учёта регуляризации его вес уменьшится в эти же 100 раз. А мы на основе этого отбираем признаки! Давайте сначала отнормируем признаки одним из способов, а только потом будем удалять признаки.\n",
    "\n",
    "Кстати, в таком случае надо пересчитать качество на всех признаках (сделайте это ниже). Если вы сделали нормирование признаков в самом начале, то попробуйте отобрать признаки на неотмасштабированных данных.\n",
    "\n",
    "Что получилось?"
   ]
  },
  {
   "cell_type": "code",
   "execution_count": null,
   "metadata": {
    "id": "6sVm4AXGXHc2"
   },
   "outputs": [],
   "source": [
    "cols = X_train_ohe.columns\n",
    "\n",
    "scaler = StandardScaler()\n",
    "\n",
    "X_train_ohe_scaler = scaler.fit_transform(X_train_ohe)\n",
    "X_test_ohe_scaler = scaler.transform(X_test_ohe)\n",
    "\n",
    "X_train_ohe_scaler = pd.DataFrame(X_train_ohe_scaler, columns=cols)\n",
    "X_test_ohe_scaler = pd.DataFrame(X_test_ohe_scaler, columns=cols)"
   ]
  },
  {
   "cell_type": "code",
   "execution_count": null,
   "metadata": {
    "id": "G8nFqVNUmDMD"
   },
   "outputs": [],
   "source": [
    "lr = LogReg(\n",
    "    gd_type=\"stochastic\", max_iter=1000, tolerance=1e-5, eta=0.01, size=5, seed=0\n",
    ")"
   ]
  },
  {
   "cell_type": "code",
   "execution_count": null,
   "metadata": {
    "id": "RC4i5X27mDME",
    "colab": {
     "base_uri": "https://localhost:8080/"
    },
    "outputId": "d4fcb663-89fc-44b3-8d8b-deed51d24892"
   },
   "outputs": [
    {
     "output_type": "stream",
     "name": "stdout",
     "text": [
      "ROC-AUC на тестовых данных: 0.4979580837217104\n",
      "CPU times: user 2min 27s, sys: 28.4 s, total: 2min 55s\n",
      "Wall time: 1min 41s\n"
     ]
    }
   ],
   "source": [
    "%%time\n",
    "get_auc(lr, X_train_ohe_scaler, y_train, X_test_ohe_scaler, y_test)"
   ]
  },
  {
   "cell_type": "code",
   "execution_count": null,
   "metadata": {
    "id": "ImJxHyWrmK-9"
   },
   "outputs": [],
   "source": [
    "impotrant_features_200 = [\n",
    "    col[1]\n",
    "    for col in sorted(list(zip(abs(lr.w), X_train_ohe_scaler.columns)), reverse=True)\n",
    "][:200]"
   ]
  },
  {
   "cell_type": "code",
   "execution_count": null,
   "metadata": {
    "id": "2YHAu44lmK-9"
   },
   "outputs": [],
   "source": [
    "lr = LogReg(\n",
    "    gd_type=\"stochastic\", max_iter=1000, tolerance=1e-5, eta=0.01, size=5, seed=0\n",
    ")"
   ]
  },
  {
   "cell_type": "code",
   "execution_count": null,
   "metadata": {
    "id": "kH41Vx4wmK--",
    "colab": {
     "base_uri": "https://localhost:8080/"
    },
    "outputId": "6040e31f-2081-4612-afc5-4def31b99218"
   },
   "outputs": [
    {
     "output_type": "stream",
     "name": "stdout",
     "text": [
      "ROC-AUC на тестовых данных: 0.512051648467246\n",
      "CPU times: user 2min 20s, sys: 28.3 s, total: 2min 48s\n",
      "Wall time: 1min 37s\n"
     ]
    }
   ],
   "source": [
    "%%time\n",
    "get_auc(\n",
    "    lr,\n",
    "    X_train_ohe_scaler[impotrant_features_200],\n",
    "    y_train,\n",
    "    X_test_ohe_scaler[impotrant_features_200],\n",
    "    y_test,\n",
    ")"
   ]
  },
  {
   "cell_type": "code",
   "execution_count": null,
   "metadata": {
    "id": "AjeWnqJL5nsV"
   },
   "outputs": [],
   "source": [
    "# lr.w"
   ]
  },
  {
   "cell_type": "markdown",
   "metadata": {
    "id": "KQt1qTyypShv"
   },
   "source": [
    "В данном примере качество модели немного уупало с уменьшением числа менее важных признаков. Время обучения и предсказания прежднее."
   ]
  },
  {
   "cell_type": "markdown",
   "metadata": {
    "id": "51HqoTxkXHc3"
   },
   "source": [
    "__Задание 10 (0.5 балла).__\n",
    "Можно задать отбор признаков более функционально. Вспомним, что L1-регуляризация также умеет отбирать признаки. Понятно, что теперь нам будет сложнее оставить именно 200 лучших признаков, но возможно они нам и не нужны. Подберите коэффициент регуляризации и проверьте, как изменилось качество. Получилось ли добиться лучшего качества при менее чем 200 признаках?"
   ]
  },
  {
   "cell_type": "code",
   "execution_count": null,
   "metadata": {
    "id": "d2SUthCmXHc4"
   },
   "outputs": [],
   "source": [
    "lr = LogReg(\n",
    "    gd_type=\"stochastic\",\n",
    "    max_iter=1000,\n",
    "    tolerance=1e-5,\n",
    "    eta=0.01,\n",
    "    size=5,\n",
    "    seed=0,\n",
    "    l1_ratio=1,\n",
    ")"
   ]
  },
  {
   "cell_type": "code",
   "execution_count": null,
   "metadata": {
    "id": "V1eC6NFHMJlj",
    "colab": {
     "base_uri": "https://localhost:8080/"
    },
    "outputId": "f56c1484-bfa9-42b1-f871-34261994a03e"
   },
   "outputs": [
    {
     "output_type": "stream",
     "name": "stdout",
     "text": [
      "ROC-AUC на тестовых данных: 0.5078738665318716\n",
      "CPU times: user 2min 26s, sys: 27.8 s, total: 2min 54s\n",
      "Wall time: 1min 39s\n"
     ]
    }
   ],
   "source": [
    "%%time\n",
    "get_auc(lr, X_train_ohe_scaler, y_train, X_test_ohe_scaler, y_test)"
   ]
  },
  {
   "cell_type": "code",
   "execution_count": null,
   "metadata": {
    "id": "gbinA4Pwemhj"
   },
   "outputs": [],
   "source": [
    "# lr.w"
   ]
  },
  {
   "cell_type": "markdown",
   "metadata": {
    "id": "9JZ6mPdwetTQ"
   },
   "source": [
    "Результат стал хуже, веса не занулились, но стали меньше. Необходимо подобрать альфа более точно по сетке. Воспользуемся библиотечной реализацией."
   ]
  },
  {
   "cell_type": "markdown",
   "metadata": {
    "id": "SQol1lWbRsaI"
   },
   "source": [
    "Используем библиотечную реализацию для ускорения подбора alpha. Но так как данных и признаков очень много, у меня код работает долго."
   ]
  },
  {
   "cell_type": "code",
   "execution_count": null,
   "metadata": {
    "id": "4Mt7kBPwYx4D"
   },
   "outputs": [],
   "source": [
    "# lr = LogisticRegression(max_iter=1000, n_jobs=-1, penalty='l1', solver='liblinear')\n",
    "# alphas = np.linspace(0.01, 2, num=50)\n",
    "\n",
    "# param_grid = {'C': 1 / np.array(alphas)}\n",
    "# grid_search = GridSearchCV(lr, param_grid, scoring='roc_auc', cv=3, n_jobs=-1, error_score='raise')\n",
    "# grid_search.fit(X_train_ohe_scaler, y_train)\n",
    "\n",
    "# best_alpha = 1 / grid_search.best_params_['C']\n",
    "# print(\"Лучшая Alpha:\", best_alpha)\n",
    "# print(\"Лучшая ROC-AUC:\", grid_search.best_score_)\n",
    "\n",
    "# best_model = grid_search.best_estimator_\n",
    "# y_pred_proba = best_model.predict_proba(X_test_ohe_scaler)[:, 1]\n",
    "# test_roc_auc = roc_auc_score(y_test, y_pred_proba)\n",
    "# print(\"Test ROC-AUC лучшая Alpha:\", test_roc_auc)"
   ]
  },
  {
   "cell_type": "markdown",
   "metadata": {
    "id": "Txq7xxAvXHc5"
   },
   "source": [
    "### Методы фильтрации"
   ]
  },
  {
   "cell_type": "markdown",
   "metadata": {
    "id": "ZRxyLWvfXHc6"
   },
   "source": [
    "Давайте отбирать признаки умнее, а именно через подсчёт некоторой функции для каждого признака. На основании значений этой функции будем оставлять наиболее важные признаки. Методы этого семейства называют фильтрующими или  filter methods.\n",
    "\n",
    "В качестве такой функции будем считать t-статистику:\n",
    "\n",
    "$$t(x) = \\frac{|\\mu_+ - \\mu_-|}{\\sqrt{\\frac{n_+ \\sigma^2_+ + n_- \\sigma^2_-}{n_+ + n_-}}},$$\n",
    "\n",
    "где $mu$, $sigma$, $n$ соответственно среднее, среднеквадратичное отклонение и количество объектов каждого из классов.\n",
    "\n",
    "Если у вас был курс математической статистики, то вы без труда узнаете статистику гипотезы о разности средних при неизвестных дисперсиях. Если же нет, то интуиция следующая. Вообще мы хотим понять, различаются ли распределения признака для двух разных классов. Мы проверяем, что математические ожидания двух распределений различаются. Если они различаются, значит и сами распределения разные. Отсюда можно сделать вывод, что по этому признаку модель сможет отличить один класс от другого. А если распределения неотличимы и статистика маленькая, то и признак бесполезен.\n",
    "\n",
    "Важно оговориться, что хотя мы и не используем статистическое тестирование явно, предпосылки о том, что наблюдения независимы, одинаково распределены и n велико, должны соблюдаться, иначе статистика не имеет смысла. Но у нас большая выборка, поэтому они выполняются. По-хорошему, конечно, надо бы сравнивать статистику с пороговым значением t-распределения и полноценно тестировать гипотезу, но мы обойдёмся простой эвристикой и возьмём признаки с наибольшим значением.\n",
    "\n",
    "\n",
    "__Задание 11 (1 балл)__. Оставьте 200 признаков с наибольшим значением и замерьте качество. Не забудьте замерить скорость отбора признаков в этом случаев."
   ]
  },
  {
   "cell_type": "code",
   "execution_count": null,
   "metadata": {
    "id": "ZAbj6_OTXHc6"
   },
   "outputs": [],
   "source": [
    "def calculate_t_statistic(X, y):\n",
    "    X_pos = X[y == 1]\n",
    "    X_neg = X[y == 0]\n",
    "\n",
    "    mu_pos, mu_neg = np.mean(X_pos, axis=0), np.mean(X_neg, axis=0)\n",
    "    sigma_pos, sigma_neg = np.std(X_pos, axis=0), np.std(X_neg, axis=0)\n",
    "\n",
    "    n_pos, n_neg = len(X_pos), len(X_neg)\n",
    "\n",
    "    numerator = np.abs(mu_pos - mu_neg)\n",
    "    denominator = np.sqrt(\n",
    "        ((n_pos - 1) * sigma_pos**2 + (n_neg - 1) * sigma_neg**2) / (n_pos + n_neg - 2)\n",
    "    )  # ddof=1\n",
    "    t_statistic = numerator / denominator\n",
    "\n",
    "    top_indices = np.argsort(t_statistic)[::-1]\n",
    "\n",
    "    return top_indices"
   ]
  },
  {
   "cell_type": "code",
   "execution_count": null,
   "metadata": {
    "id": "Zu9-Ndvdjhh_"
   },
   "outputs": [],
   "source": [
    "top_indices = calculate_t_statistic(X_train_ohe_scaler, y_train)\n",
    "top_indices_200 = top_indices[:200].index"
   ]
  },
  {
   "cell_type": "code",
   "execution_count": null,
   "metadata": {
    "id": "nY0_ZqNhlnzQ"
   },
   "outputs": [],
   "source": [
    "lr = LogReg(\n",
    "    gd_type=\"stochastic\", max_iter=1000, tolerance=1e-5, eta=0.01, size=5, seed=0\n",
    ")"
   ]
  },
  {
   "cell_type": "code",
   "execution_count": null,
   "metadata": {
    "id": "gE2qGYi-lnzQ",
    "colab": {
     "base_uri": "https://localhost:8080/"
    },
    "outputId": "b4c708f9-c1da-4991-8065-759c5e494da7"
   },
   "outputs": [
    {
     "output_type": "stream",
     "name": "stdout",
     "text": [
      "ROC-AUC на тестовых данных: 0.5081070212450547\n",
      "CPU times: user 2min 19s, sys: 28.2 s, total: 2min 47s\n",
      "Wall time: 1min 37s\n"
     ]
    }
   ],
   "source": [
    "%%time\n",
    "get_auc(\n",
    "    lr,\n",
    "    X_train_ohe_scaler[top_indices_200],\n",
    "    y_train,\n",
    "    X_test_ohe_scaler[top_indices_200],\n",
    "    y_test,\n",
    ")"
   ]
  },
  {
   "cell_type": "markdown",
   "metadata": {
    "id": "qKfkLrhmmh5c"
   },
   "source": [
    "Качество упало, по сравнению с результатом в случае с отбором признаков по величине весов."
   ]
  },
  {
   "cell_type": "markdown",
   "metadata": {
    "id": "ZT6VxjfMXHc7"
   },
   "source": [
    "### Методы-обёртки"
   ]
  },
  {
   "cell_type": "markdown",
   "metadata": {
    "id": "CN1n0KkoXHc7"
   },
   "source": [
    "__Задание 12 (бонус, 1 балл)__.\n",
    "\n",
    "\n",
    "Заключительный из рассматриваемых нами методов работает следующим образом: мы исключаем по очереди один из признаков и смотрим, как это влияет на качество. Удаляем признаки таким жадным способом, пока не достигнем некоторого критерия (количество признаков или ухудшением качества).\n",
    "\n",
    "Заметим, что нельзя оценивать качество по тестовой выборке, иначе мы можем переобучиться, как, например, при настройке гиперпараметров. Разделите выборку на 2 части, на одной из них обучайте модель без одного из признаков,  на второй части оценивайте качество. Исходную тестовую выборку стоит использовать только на финальной оценке качества.\n",
    "\n",
    "Сделайте одну итерацию и прикиньте, сколько времени займёт такой отбор признаков. Кажется, что чересчур. Давайте возьмём маленький сэмпл данных (например, в 10 тысяч объектов), что сильно уменьшит время итерации. Теперь это долго, но уже приемлимо.\n",
    "\n",
    "Если это всё ещё долго для вашего комьютера, можете попробовать брать не по одному признаку, а сразу по пять (и удалять сразу тоже по 5). Для этого перед каждой итерацией удаления делите заново все признаки на группы по 5 штук.\n",
    "\n",
    "Снова оставьте только 200 признаков и оцените качество на тестовой выборке. Сколько времени занял такой отбор признаков?"
   ]
  },
  {
   "cell_type": "code",
   "execution_count": null,
   "metadata": {
    "id": "9sKemgIgXHc8",
    "colab": {
     "base_uri": "https://localhost:8080/"
    },
    "outputId": "50c03512-74ef-40fa-97a5-a3bf9f1a23a2"
   },
   "outputs": [
    {
     "output_type": "execute_result",
     "data": {
      "text/plain": [
       "((476169, 213), (119043, 213), (476169,), (119043,))"
      ]
     },
     "metadata": {},
     "execution_count": 61
    }
   ],
   "source": [
    "X_train_ohe_scaler.shape, X_test_ohe_scaler.shape, y_train.shape, y_test.shape"
   ]
  },
  {
   "cell_type": "code",
   "execution_count": null,
   "metadata": {
    "id": "alfE6aIF8ZMF"
   },
   "outputs": [],
   "source": [
    "sample_size = 10000\n",
    "\n",
    "indexes = (\n",
    "    X_train_ohe_scaler.reset_index(drop=True).sample(sample_size, random_state=0).index\n",
    ")\n",
    "\n",
    "X_train_wrap = X_train_ohe_scaler.iloc[indexes]\n",
    "y_train_wrap = [y_train[i] for i in indexes]\n",
    "\n",
    "X_train_split, X_val_split, y_train_split, y_val_split = train_test_split(\n",
    "    X_train_wrap, y_train_wrap, test_size=0.3, random_state=42\n",
    ")"
   ]
  },
  {
   "cell_type": "code",
   "execution_count": null,
   "metadata": {
    "id": "KG0_aj-lPH3d"
   },
   "outputs": [],
   "source": [
    "batch_size = 1\n",
    "\n",
    "feature_groups = [\n",
    "    list(X_train_split.columns[i : i + batch_size])\n",
    "    for i in range(0, len(X_train_split.columns), batch_size)\n",
    "]"
   ]
  },
  {
   "cell_type": "code",
   "execution_count": null,
   "metadata": {
    "id": "x6GlGVob7-FH"
   },
   "outputs": [],
   "source": [
    "def calc_worst_features(X_train, X_val, y_train, y_val, feature_groups):\n",
    "    best_auc = 0\n",
    "    worst_removed_features = []\n",
    "\n",
    "    for features_to_remove in tqdm(\n",
    "        feature_groups, desc=\"Жадный поиск по всем признакам\"\n",
    "    ):\n",
    "        X_train_subset = X_train.drop(features_to_remove, axis=1)\n",
    "        X_val_subset = X_val.drop(features_to_remove, axis=1)\n",
    "\n",
    "        model = LogisticRegression(solver=\"lbfgs\", max_iter=1000, random_state=0)\n",
    "        model.fit(X_train_subset, y_train)\n",
    "        y_pred_proba = model.predict_proba(X_val_subset)[:, 1]\n",
    "        auc = roc_auc_score(y_val, y_pred_proba)\n",
    "\n",
    "        if auc > best_auc:\n",
    "            best_auc = auc\n",
    "            worst_removed_features = features_to_remove\n",
    "\n",
    "    return worst_removed_features, best_auc"
   ]
  },
  {
   "cell_type": "code",
   "execution_count": null,
   "metadata": {
    "id": "GaTvqnwVhrN4"
   },
   "outputs": [],
   "source": [
    "# %%time\n",
    "# calc_worst_features(X_train_split, X_val_split, y_train_split, y_val_split, feature_groups)"
   ]
  },
  {
   "cell_type": "code",
   "execution_count": null,
   "metadata": {
    "id": "WWYnRbn9pzch"
   },
   "outputs": [],
   "source": [
    "def create_new_batches(data, batch_size):\n",
    "    flat_data = []\n",
    "\n",
    "    for sublist in data:\n",
    "        flat_data.extend(sublist)\n",
    "\n",
    "    batches = [flat_data[i : i + batch_size] for i in range(0, len(data), batch_size)]\n",
    "\n",
    "    return batches"
   ]
  },
  {
   "cell_type": "code",
   "execution_count": null,
   "metadata": {
    "id": "oAT3Fla8LfWZ",
    "colab": {
     "base_uri": "https://localhost:8080/"
    },
    "outputId": "697395e4-cfcf-48a7-b635-7aff954c2e46"
   },
   "outputs": [
    {
     "output_type": "stream",
     "name": "stderr",
     "text": [
      "Жадный поиск по всем признакам: 100%|██████████| 213/213 [00:59<00:00,  3.57it/s]\n"
     ]
    },
    {
     "output_type": "stream",
     "name": "stdout",
     "text": [
      "AUC: 0.6057528377226435, без признаков: ['ps_car_11_cat_96']\n"
     ]
    },
    {
     "output_type": "stream",
     "name": "stderr",
     "text": [
      "Жадный поиск по всем признакам: 100%|██████████| 212/212 [01:00<00:00,  3.50it/s]\n"
     ]
    },
    {
     "output_type": "stream",
     "name": "stdout",
     "text": [
      "AUC: 0.6049620889227871, без признаков: ['ps_car_11_cat_61']\n"
     ]
    },
    {
     "output_type": "stream",
     "name": "stderr",
     "text": [
      "Жадный поиск по всем признакам: 100%|██████████| 211/211 [01:01<00:00,  3.45it/s]\n"
     ]
    },
    {
     "output_type": "stream",
     "name": "stdout",
     "text": [
      "AUC: 0.6043255641796401, без признаков: ['ps_car_04_cat_6']\n"
     ]
    },
    {
     "output_type": "stream",
     "name": "stderr",
     "text": [
      "Жадный поиск по всем признакам: 100%|██████████| 210/210 [00:59<00:00,  3.51it/s]\n"
     ]
    },
    {
     "output_type": "stream",
     "name": "stdout",
     "text": [
      "AUC: 0.6039582305172956, без признаков: ['ps_car_11_cat_23']\n"
     ]
    },
    {
     "output_type": "stream",
     "name": "stderr",
     "text": [
      "Жадный поиск по всем признакам: 100%|██████████| 209/209 [01:01<00:00,  3.42it/s]\n"
     ]
    },
    {
     "output_type": "stream",
     "name": "stdout",
     "text": [
      "AUC: 0.6031702857911974, без признаков: ['ps_car_11_cat_100']\n"
     ]
    },
    {
     "output_type": "stream",
     "name": "stderr",
     "text": [
      "Жадный поиск по всем признакам: 100%|██████████| 208/208 [00:58<00:00,  3.58it/s]\n"
     ]
    },
    {
     "output_type": "stream",
     "name": "stdout",
     "text": [
      "AUC: 0.6029655884068376, без признаков: ['ps_car_11_cat_67']\n"
     ]
    },
    {
     "output_type": "stream",
     "name": "stderr",
     "text": [
      "Жадный поиск по всем признакам: 100%|██████████| 207/207 [01:04<00:00,  3.19it/s]\n"
     ]
    },
    {
     "output_type": "stream",
     "name": "stdout",
     "text": [
      "AUC: 0.6020430481403383, без признаков: ['ps_car_06_cat_6']\n"
     ]
    },
    {
     "output_type": "stream",
     "name": "stderr",
     "text": [
      "Жадный поиск по всем признакам: 100%|██████████| 206/206 [00:57<00:00,  3.57it/s]\n"
     ]
    },
    {
     "output_type": "stream",
     "name": "stdout",
     "text": [
      "AUC: 0.6018551751985284, без признаков: ['ps_car_01_cat_5']\n"
     ]
    },
    {
     "output_type": "stream",
     "name": "stderr",
     "text": [
      "Жадный поиск по всем признакам: 100%|██████████| 205/205 [00:58<00:00,  3.48it/s]\n"
     ]
    },
    {
     "output_type": "stream",
     "name": "stdout",
     "text": [
      "AUC: 0.6018243303871865, без признаков: ['ps_calc_07']\n"
     ]
    },
    {
     "output_type": "stream",
     "name": "stderr",
     "text": [
      "Жадный поиск по всем признакам: 100%|██████████| 204/204 [00:58<00:00,  3.49it/s]\n"
     ]
    },
    {
     "output_type": "stream",
     "name": "stdout",
     "text": [
      "AUC: 0.6017990937233614, без признаков: ['ps_car_11_cat_82']\n"
     ]
    },
    {
     "output_type": "stream",
     "name": "stderr",
     "text": [
      "Жадный поиск по всем признакам: 100%|██████████| 203/203 [00:57<00:00,  3.54it/s]\n"
     ]
    },
    {
     "output_type": "stream",
     "name": "stdout",
     "text": [
      "AUC: 0.6015270985688007, без признаков: ['ps_car_11_cat_73']\n"
     ]
    },
    {
     "output_type": "stream",
     "name": "stderr",
     "text": [
      "Жадный поиск по всем признакам: 100%|██████████| 202/202 [00:57<00:00,  3.52it/s]\n"
     ]
    },
    {
     "output_type": "stream",
     "name": "stdout",
     "text": [
      "AUC: 0.601291556373099, без признаков: ['ps_car_04_cat_9']\n"
     ]
    },
    {
     "output_type": "stream",
     "name": "stderr",
     "text": [
      "Жадный поиск по всем признакам: 100%|██████████| 201/201 [00:57<00:00,  3.51it/s]"
     ]
    },
    {
     "output_type": "stream",
     "name": "stdout",
     "text": [
      "AUC: 0.6007699986540446, без признаков: ['ps_car_11_cat_26']\n",
      "CPU times: user 16min 51s, sys: 5min 3s, total: 21min 54s\n",
      "Wall time: 12min 52s\n"
     ]
    },
    {
     "output_type": "stream",
     "name": "stderr",
     "text": [
      "\n"
     ]
    }
   ],
   "source": [
    "%%time\n",
    "\n",
    "current_feature_groups = feature_groups.copy()\n",
    "\n",
    "while len([feature for group in current_feature_groups for feature in group]) > 200:\n",
    "    worst_removed_features, auc = calc_worst_features(\n",
    "        X_train_split, X_val_split, y_train_split, y_val_split, current_feature_groups\n",
    "    )\n",
    "\n",
    "    current_feature_groups.remove(worst_removed_features)\n",
    "    feature_groups = create_new_batches(feature_groups, batch_size)\n",
    "\n",
    "    print(f\"AUC: {auc}, без признаков: {worst_removed_features}\")\n",
    "    pass"
   ]
  },
  {
   "cell_type": "code",
   "execution_count": null,
   "metadata": {
    "id": "wIlX7E6rLfYq"
   },
   "outputs": [],
   "source": [
    "best_features = [feature for group in current_feature_groups for feature in group]"
   ]
  },
  {
   "cell_type": "code",
   "execution_count": null,
   "metadata": {
    "id": "NxGgSG38Q0DS",
    "colab": {
     "base_uri": "https://localhost:8080/"
    },
    "outputId": "240848cb-7051-4717-efa7-ba0e9964987a"
   },
   "outputs": [
    {
     "output_type": "stream",
     "name": "stdout",
     "text": [
      "Лучший результат AUC на тестовых данных при числе признаков: 200, составил: 0.6007699986540446\n"
     ]
    }
   ],
   "source": [
    "print(\n",
    "    f\"Лучший результат AUC на тестовых данных при числе признаков: {len(best_features)}, составил: {auc}\"\n",
    ")"
   ]
  },
  {
   "cell_type": "code",
   "execution_count": null,
   "metadata": {
    "id": "ILYu69C7RTV4"
   },
   "outputs": [],
   "source": [
    "lr = LogReg(\n",
    "    gd_type=\"stochastic\", max_iter=1000, tolerance=1e-5, eta=0.01, size=5, seed=0\n",
    ")"
   ]
  },
  {
   "cell_type": "code",
   "execution_count": null,
   "metadata": {
    "id": "SWheioH9RTV5",
    "colab": {
     "base_uri": "https://localhost:8080/"
    },
    "outputId": "c660a391-e7ab-4474-c897-13a5c7474879"
   },
   "outputs": [
    {
     "output_type": "stream",
     "name": "stdout",
     "text": [
      "ROC-AUC на тестовых данных: 0.49268034241098996\n",
      "CPU times: user 2min 19s, sys: 28 s, total: 2min 47s\n",
      "Wall time: 1min 38s\n"
     ]
    }
   ],
   "source": [
    "%%time\n",
    "get_auc(\n",
    "    lr,\n",
    "    X_train_ohe_scaler[best_features],\n",
    "    np.array(y_train),\n",
    "    X_test_ohe_scaler[best_features],\n",
    "    np.array(y_test),\n",
    ")"
   ]
  },
  {
   "cell_type": "markdown",
   "metadata": {
    "id": "OnS40z8mShNI"
   },
   "source": [
    "Время обучения заметно снизилось, качество стало хуже относительно метода отбора признаков по весам модели. Вероятнее всего данный метод показал бы наилучшее качество используя все данные без разбития на пакеты в моменте отбора признаков."
   ]
  },
  {
   "cell_type": "markdown",
   "metadata": {
    "id": "sV3yHHocXHc8"
   },
   "source": [
    "Опционально (это не оценивается) можете рассмотреть более интересные стратегии отбора, чем жадная. Например, генетические алгоритмы. Можно закодировать бинарным вектором, включаем мы или нет тот или иной признак в модель. А дальше генетическим алгоритмом оптимизировать этот вектор. Всё ещё не быстро, но точно быстрее жадного.\n"
   ]
  },
  {
   "cell_type": "markdown",
   "metadata": {
    "id": "opz-7DUiXHc9"
   },
   "source": [
    "**Задание 13 (0.5 балла)** Давайте подведём итоги по отбору признаков. Назовите преимущества и недостатки каждого из методов. Какой метод привёл к наилучшему качеству? Если не делали бонус — сравните встроенный метод и метод фильтрации.\n",
    "\n",
    "**Ответ:** ..."
   ]
  },
  {
   "cell_type": "markdown",
   "metadata": {
    "id": "uqfuILlsdWrz"
   },
   "source": [
    "__Встроенные методы__\n",
    "\n",
    "- Отбор признаков происходит исходя из 'мнения' рассматриваемой модели. Тем самым можно оценить как модель взаимодействует с признаками. Но не всегда это взаимодействие может быть оптимальным, как следствие может произойти игнорирование важных признаков;\n",
    "- ROC-AUC на тестовых данных используя 200 наиболее значимых признаков, определенных по наибольшим весам: `0.512`;\n",
    "- ROC-AUC на тестовых данных используя L1 регуляризацию: `0.507`.\n"
   ]
  },
  {
   "cell_type": "markdown",
   "metadata": {
    "id": "orEtGhsB1kUI"
   },
   "source": [
    "__Методы фильтрации__\n",
    "\n",
    "- Быстрота использования метода, т.к оценка признаков происходит в не зависимости от модели;\n",
    "- Простота интерпретации результатов.\n",
    "- Из недостатков - отстутствие связи взаимосдействия признаков с конкретной моделью;\n",
    "- ROC-AUC на тестовых данных используя 200 наиболее важных признаков в соответствии с t-статистикой: `0.508`\n",
    "- Так же можно мопробовать провести корреляционный анализ, вариационный анализ на основе критерия значимости, оценить взаимную информацию на основе критерия Фишера.\n"
   ]
  },
  {
   "cell_type": "markdown",
   "metadata": {
    "id": "ZUbgY0VS37YH"
   },
   "source": [
    "__Методы обертки__\n",
    "\n",
    "- Учитывают взаимодействие между признаками и моделью;\n",
    "- Высокая вычислительная сложность при большом количестве признаков;\n",
    "- Риск переобучения.\n",
    "\n",
    "- ROC-AUC при рекурсивном переборе (RFE) на части данных с признаками сгруппированными по пакетам: `0.493`.\n",
    "Причиной низкого результата служит не показательнось выборочных данных и использование пакетов в которые попадают как важные так и не очень признаки."
   ]
  },
  {
   "cell_type": "markdown",
   "source": [
    "В целом, каждый метод имеет свои преимущества и недостатки, и выбор метода зависит от таких факторов, как вычислительные ресурсы, сложность набора данных и конкретные цели выбора признаков. В этом случае встроенный метод с использованием 200 наиболее важных признаков по мнению модели дал наивысший результат по ROC-AUC, что указывает на его эффективность в данном случае."
   ],
   "metadata": {
    "id": "KCCnCtn4DgRr"
   }
  },
  {
   "cell_type": "code",
   "execution_count": null,
   "metadata": {
    "id": "-cydw49PR7Iu"
   },
   "outputs": [],
   "source": []
  }
 ],
 "metadata": {
  "colab": {
   "provenance": [],
   "gpuType": "T4",
   "toc_visible": true
  },
  "kernelspec": {
   "display_name": "Python 3",
   "name": "python3"
  },
  "language_info": {
   "codemirror_mode": {
    "name": "ipython",
    "version": 3
   },
   "file_extension": ".py",
   "mimetype": "text/x-python",
   "name": "python",
   "nbconvert_exporter": "python",
   "pygments_lexer": "ipython3",
   "version": "3.7.1"
  },
  "toc": {
   "base_numbering": 1,
   "nav_menu": {},
   "number_sections": true,
   "sideBar": true,
   "skip_h1_title": true,
   "title_cell": "Table of Contents",
   "title_sidebar": "Contents",
   "toc_cell": false,
   "toc_position": {},
   "toc_section_display": true,
   "toc_window_display": false
  },
  "varInspector": {
   "cols": {
    "lenName": 16,
    "lenType": 16,
    "lenVar": 40
   },
   "kernels_config": {
    "python": {
     "delete_cmd_postfix": "",
     "delete_cmd_prefix": "del ",
     "library": "var_list.py",
     "varRefreshCmd": "print(var_dic_list())"
    },
    "r": {
     "delete_cmd_postfix": ") ",
     "delete_cmd_prefix": "rm(",
     "library": "var_list.r",
     "varRefreshCmd": "cat(var_dic_list()) "
    }
   },
   "types_to_exclude": [
    "module",
    "function",
    "builtin_function_or_method",
    "instance",
    "_Feature"
   ],
   "window_display": false
  },
  "accelerator": "GPU"
 },
 "nbformat": 4,
 "nbformat_minor": 0
}